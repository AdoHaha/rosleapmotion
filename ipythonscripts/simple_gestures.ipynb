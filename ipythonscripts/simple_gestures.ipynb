{
 "metadata": {
  "name": ""
 },
 "nbformat": 3,
 "nbformat_minor": 0,
 "worksheets": [
  {
   "cells": [
    {
     "cell_type": "code",
     "collapsed": false,
     "input": [
      "## gestures on onff\n",
      "#################################################################################\n",
      "# Copyright (C) 2012-2013 Leap Motion, Inc. All rights reserved.                #\n",
      "# Leap Motion proprietary and confidential. Not for distribution.               #\n",
      "# Use subject to the terms of the Leap Motion SDK Agreement available at        #\n",
      "# https://developer.leapmotion.com/sdk_agreement, or another agreement          #\n",
      "# between Leap Motion and you, your company or other organization.              #\n",
      "#################################################################################\n",
      "\n",
      "#################################################################################\n",
      "# Altered LEAP example by Florian Lier, you need to have the LEAP SDK installed #\n",
      "# for this to work properly ;)                                                  #\n",
      "# This interface provides access to the LEAP MOTION hardware, you will need to  #\n",
      "# have the official LEAP MOTION SDK installed in order to load the shared       #\n",
      "# provided with the SDK.                                                        #\n",
      "#################################################################################\n",
      "\n",
      "import sys\n",
      "import time\n",
      "# Set (append) your PYTHONPATH properly, or just fill in the location of your LEAP\n",
      "# SDK folder, e.g., ../LeapSDK/lib where the Leap.py lives and /LeapSDK/lib/x64 or\n",
      "# x86 where the *.so files reside.\n",
      "sys.path.append(\"/home/igor/Downloads/LeapDeveloperKit/LeapSDK/lib\")\n",
      "sys.path.append(\"/home/igor/Downloads/LeapDeveloperKit/LeapSDK/lib/x64\")\n",
      "import threading\n",
      "import Leap\n",
      "from Leap import CircleGesture, KeyTapGesture, ScreenTapGesture, SwipeGesture\n"
     ],
     "language": "python",
     "metadata": {},
     "outputs": []
    }
   ],
   "metadata": {}
  }
 ]
}